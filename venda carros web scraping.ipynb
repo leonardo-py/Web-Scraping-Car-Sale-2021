{
 "cells": [
  {
   "cell_type": "code",
   "execution_count": 1,
   "id": "29cc3d7e",
   "metadata": {},
   "outputs": [
    {
     "name": "stderr",
     "output_type": "stream",
     "text": [
      "[WDM] - Downloading: 100%|████████████████████████████████████████████████████████| 6.58M/6.58M [00:00<00:00, 38.3MB/s]\n"
     ]
    }
   ],
   "source": [
    "from selenium import webdriver\n",
    "from selenium.webdriver.chrome.service import Service\n",
    "from webdriver_manager.chrome import ChromeDriverManager\n",
    "from selenium.webdriver.common.by import By\n",
    "\n",
    "servico = Service(ChromeDriverManager().install())\n",
    "navegador = webdriver.Chrome(service = servico)"
   ]
  },
  {
   "cell_type": "code",
   "execution_count": 2,
   "id": "d36ad833",
   "metadata": {},
   "outputs": [],
   "source": [
    "navegador.get('https://g1.globo.com/economia/noticia/2022/01/06/veja-os-carros-mais-vendidos-de-2021-por-categoria.ghtml')"
   ]
  },
  {
   "cell_type": "code",
   "execution_count": null,
   "id": "708dfe59",
   "metadata": {},
   "outputs": [],
   "source": [
    "# /html/body/div[2]/main/div[7]/article/div[3]/div[8]/ol/li[1]    #XPATH Primeiro carro  \n",
    "# /html/body/div[2]/main/div[7]/article/div[3]/div[8]/ol/li[20]   #XPATH Último carro"
   ]
  },
  {
   "cell_type": "code",
   "execution_count": 3,
   "id": "5054708c",
   "metadata": {},
   "outputs": [
    {
     "name": "stdout",
     "output_type": "stream",
     "text": [
      "['Hyundai HB20: 86.455', 'Fiat Argo: 84.644', 'Jeep Renegade: 73.913', 'Chevrolet Onix: 73.623', 'Jeep Compass: 70.906', 'Volkswagen Gol: 66.228', 'Fiat Mobi: 65.847', 'Hyundai Creta: 64.759', 'Volkswagen T-Cross: 62.307', 'Chevrolet Onix Plus: 54.707', 'Renault Kwid: 52.916', 'Chevrolet Tracker: 50.757', 'Toyota Corolla: 41.891', 'Honda HR-V: 38.406', 'Volkswagen Nivus: 36.664', 'Nissan Kicks: 36.524', 'Toyota Corolla Cross: 34.249', 'Volkswagen Voyage: 28.593', 'Fiat Cronos: 27.887', 'Hyundai HB20S: 25.568']\n"
     ]
    }
   ],
   "source": [
    "lista_carros = []\n",
    "\n",
    "for i in range(1,21):\n",
    "    elemento = navegador.find_element(By.,'/html/body/div[2]/main/div[7]/article/div[3]/div[8]/ol/li['+ str(i) +']').text\n",
    "    lista_carros.append(elemento)\n",
    "print(lista_carros)"
   ]
  },
  {
   "cell_type": "code",
   "execution_count": 5,
   "id": "4502b09f",
   "metadata": {},
   "outputs": [
    {
     "name": "stdout",
     "output_type": "stream",
     "text": [
      "{'Hyundai HB20': ' 86.455', 'Fiat Argo': ' 84.644', 'Jeep Renegade': ' 73.913', 'Chevrolet Onix': ' 73.623', 'Jeep Compass': ' 70.906', 'Volkswagen Gol': ' 66.228', 'Fiat Mobi': ' 65.847', 'Hyundai Creta': ' 64.759', 'Volkswagen T-Cross': ' 62.307', 'Chevrolet Onix Plus': ' 54.707', 'Renault Kwid': ' 52.916', 'Chevrolet Tracker': ' 50.757', 'Toyota Corolla': ' 41.891', 'Honda HR-V': ' 38.406', 'Volkswagen Nivus': ' 36.664', 'Nissan Kicks': ' 36.524', 'Toyota Corolla Cross': ' 34.249', 'Volkswagen Voyage': ' 28.593', 'Fiat Cronos': ' 27.887', 'Hyundai HB20S': ' 25.568'}\n"
     ]
    }
   ],
   "source": [
    "dicionario_carros = {}\n",
    "\n",
    "for i in range(20):\n",
    "    split = lista_carros[i].split(':')\n",
    "    chave_dic = split[0]\n",
    "    valor_dic = split[1]\n",
    "    dicionario_carros[chave_dic] = valor_dic\n",
    "    \n",
    "print(dicionario_carros)"
   ]
  },
  {
   "cell_type": "code",
   "execution_count": 6,
   "id": "6fa81e09",
   "metadata": {},
   "outputs": [],
   "source": [
    "import pandas as pd"
   ]
  },
  {
   "cell_type": "code",
   "execution_count": 8,
   "id": "86c5f60a",
   "metadata": {},
   "outputs": [
    {
     "data": {
      "text/html": [
       "<div>\n",
       "<style scoped>\n",
       "    .dataframe tbody tr th:only-of-type {\n",
       "        vertical-align: middle;\n",
       "    }\n",
       "\n",
       "    .dataframe tbody tr th {\n",
       "        vertical-align: top;\n",
       "    }\n",
       "\n",
       "    .dataframe thead th {\n",
       "        text-align: right;\n",
       "    }\n",
       "</style>\n",
       "<table border=\"1\" class=\"dataframe\">\n",
       "  <thead>\n",
       "    <tr style=\"text-align: right;\">\n",
       "      <th></th>\n",
       "      <th>0</th>\n",
       "      <th>1</th>\n",
       "    </tr>\n",
       "  </thead>\n",
       "  <tbody>\n",
       "    <tr>\n",
       "      <th>0</th>\n",
       "      <td>Hyundai HB20</td>\n",
       "      <td>86.455</td>\n",
       "    </tr>\n",
       "    <tr>\n",
       "      <th>1</th>\n",
       "      <td>Fiat Argo</td>\n",
       "      <td>84.644</td>\n",
       "    </tr>\n",
       "    <tr>\n",
       "      <th>2</th>\n",
       "      <td>Jeep Renegade</td>\n",
       "      <td>73.913</td>\n",
       "    </tr>\n",
       "    <tr>\n",
       "      <th>3</th>\n",
       "      <td>Chevrolet Onix</td>\n",
       "      <td>73.623</td>\n",
       "    </tr>\n",
       "    <tr>\n",
       "      <th>4</th>\n",
       "      <td>Jeep Compass</td>\n",
       "      <td>70.906</td>\n",
       "    </tr>\n",
       "  </tbody>\n",
       "</table>\n",
       "</div>"
      ],
      "text/plain": [
       "                0        1\n",
       "0    Hyundai HB20   86.455\n",
       "1       Fiat Argo   84.644\n",
       "2   Jeep Renegade   73.913\n",
       "3  Chevrolet Onix   73.623\n",
       "4    Jeep Compass   70.906"
      ]
     },
     "execution_count": 8,
     "metadata": {},
     "output_type": "execute_result"
    }
   ],
   "source": [
    "df = pd.DataFrame(list(dicionario_carros.items()))\n",
    "df.head()"
   ]
  },
  {
   "cell_type": "code",
   "execution_count": 9,
   "id": "261865c6",
   "metadata": {},
   "outputs": [
    {
     "data": {
      "text/html": [
       "<div>\n",
       "<style scoped>\n",
       "    .dataframe tbody tr th:only-of-type {\n",
       "        vertical-align: middle;\n",
       "    }\n",
       "\n",
       "    .dataframe tbody tr th {\n",
       "        vertical-align: top;\n",
       "    }\n",
       "\n",
       "    .dataframe thead th {\n",
       "        text-align: right;\n",
       "    }\n",
       "</style>\n",
       "<table border=\"1\" class=\"dataframe\">\n",
       "  <thead>\n",
       "    <tr style=\"text-align: right;\">\n",
       "      <th></th>\n",
       "      <th>Carro</th>\n",
       "      <th>Emplacamento</th>\n",
       "    </tr>\n",
       "  </thead>\n",
       "  <tbody>\n",
       "    <tr>\n",
       "      <th>0</th>\n",
       "      <td>Hyundai HB20</td>\n",
       "      <td>86.455</td>\n",
       "    </tr>\n",
       "    <tr>\n",
       "      <th>1</th>\n",
       "      <td>Fiat Argo</td>\n",
       "      <td>84.644</td>\n",
       "    </tr>\n",
       "    <tr>\n",
       "      <th>2</th>\n",
       "      <td>Jeep Renegade</td>\n",
       "      <td>73.913</td>\n",
       "    </tr>\n",
       "    <tr>\n",
       "      <th>3</th>\n",
       "      <td>Chevrolet Onix</td>\n",
       "      <td>73.623</td>\n",
       "    </tr>\n",
       "    <tr>\n",
       "      <th>4</th>\n",
       "      <td>Jeep Compass</td>\n",
       "      <td>70.906</td>\n",
       "    </tr>\n",
       "    <tr>\n",
       "      <th>5</th>\n",
       "      <td>Volkswagen Gol</td>\n",
       "      <td>66.228</td>\n",
       "    </tr>\n",
       "    <tr>\n",
       "      <th>6</th>\n",
       "      <td>Fiat Mobi</td>\n",
       "      <td>65.847</td>\n",
       "    </tr>\n",
       "    <tr>\n",
       "      <th>7</th>\n",
       "      <td>Hyundai Creta</td>\n",
       "      <td>64.759</td>\n",
       "    </tr>\n",
       "    <tr>\n",
       "      <th>8</th>\n",
       "      <td>Volkswagen T-Cross</td>\n",
       "      <td>62.307</td>\n",
       "    </tr>\n",
       "    <tr>\n",
       "      <th>9</th>\n",
       "      <td>Chevrolet Onix Plus</td>\n",
       "      <td>54.707</td>\n",
       "    </tr>\n",
       "    <tr>\n",
       "      <th>10</th>\n",
       "      <td>Renault Kwid</td>\n",
       "      <td>52.916</td>\n",
       "    </tr>\n",
       "    <tr>\n",
       "      <th>11</th>\n",
       "      <td>Chevrolet Tracker</td>\n",
       "      <td>50.757</td>\n",
       "    </tr>\n",
       "    <tr>\n",
       "      <th>12</th>\n",
       "      <td>Toyota Corolla</td>\n",
       "      <td>41.891</td>\n",
       "    </tr>\n",
       "    <tr>\n",
       "      <th>13</th>\n",
       "      <td>Honda HR-V</td>\n",
       "      <td>38.406</td>\n",
       "    </tr>\n",
       "    <tr>\n",
       "      <th>14</th>\n",
       "      <td>Volkswagen Nivus</td>\n",
       "      <td>36.664</td>\n",
       "    </tr>\n",
       "    <tr>\n",
       "      <th>15</th>\n",
       "      <td>Nissan Kicks</td>\n",
       "      <td>36.524</td>\n",
       "    </tr>\n",
       "    <tr>\n",
       "      <th>16</th>\n",
       "      <td>Toyota Corolla Cross</td>\n",
       "      <td>34.249</td>\n",
       "    </tr>\n",
       "    <tr>\n",
       "      <th>17</th>\n",
       "      <td>Volkswagen Voyage</td>\n",
       "      <td>28.593</td>\n",
       "    </tr>\n",
       "    <tr>\n",
       "      <th>18</th>\n",
       "      <td>Fiat Cronos</td>\n",
       "      <td>27.887</td>\n",
       "    </tr>\n",
       "    <tr>\n",
       "      <th>19</th>\n",
       "      <td>Hyundai HB20S</td>\n",
       "      <td>25.568</td>\n",
       "    </tr>\n",
       "  </tbody>\n",
       "</table>\n",
       "</div>"
      ],
      "text/plain": [
       "                   Carro Emplacamento\n",
       "0           Hyundai HB20       86.455\n",
       "1              Fiat Argo       84.644\n",
       "2          Jeep Renegade       73.913\n",
       "3         Chevrolet Onix       73.623\n",
       "4           Jeep Compass       70.906\n",
       "5         Volkswagen Gol       66.228\n",
       "6              Fiat Mobi       65.847\n",
       "7          Hyundai Creta       64.759\n",
       "8     Volkswagen T-Cross       62.307\n",
       "9    Chevrolet Onix Plus       54.707\n",
       "10          Renault Kwid       52.916\n",
       "11     Chevrolet Tracker       50.757\n",
       "12        Toyota Corolla       41.891\n",
       "13            Honda HR-V       38.406\n",
       "14      Volkswagen Nivus       36.664\n",
       "15          Nissan Kicks       36.524\n",
       "16  Toyota Corolla Cross       34.249\n",
       "17     Volkswagen Voyage       28.593\n",
       "18           Fiat Cronos       27.887\n",
       "19         Hyundai HB20S       25.568"
      ]
     },
     "execution_count": 9,
     "metadata": {},
     "output_type": "execute_result"
    }
   ],
   "source": [
    "df = df.rename(columns = {0:'Carro',1:'Emplacamento'})\n",
    "df"
   ]
  }
 ],
 "metadata": {
  "kernelspec": {
   "display_name": "Python 3 (ipykernel)",
   "language": "python",
   "name": "python3"
  },
  "language_info": {
   "codemirror_mode": {
    "name": "ipython",
    "version": 3
   },
   "file_extension": ".py",
   "mimetype": "text/x-python",
   "name": "python",
   "nbconvert_exporter": "python",
   "pygments_lexer": "ipython3",
   "version": "3.9.13"
  }
 },
 "nbformat": 4,
 "nbformat_minor": 5
}
